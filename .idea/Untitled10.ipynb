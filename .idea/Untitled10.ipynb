{
 "cells": [
  {
   "cell_type": "code",
   "execution_count": 1,
   "metadata": {},
   "outputs": [
    {
     "name": "stderr",
     "output_type": "stream",
     "text": [
      "  % Total    % Received % Xferd  Average Speed   Time    Time     Time  Current\n",
      "                                 Dload  Upload   Total   Spent    Left  Speed\n",
      "\n",
      "  0     0    0     0    0     0      0      0 --:--:-- --:--:-- --:--:--     0\n",
      "  0     0    0     0    0     0      0      0 --:--:-- --:--:-- --:--:--     0\n",
      "  0     0    0     0    0     0      0      0 --:--:--  0:00:01 --:--:--     0\n",
      "  0     0    0     0    0     0      0      0 --:--:--  0:00:02 --:--:--     0\n",
      "100   161  100   161    0     0     57      0  0:00:02  0:00:02 --:--:--    57\n"
     ]
    }
   ],
   "source": [
    "!curl https://raw.githubusercontent.com/MicrosoftLearning/intropython/master/elements1_20.txt -o elements1_20.txt"
   ]
  },
  {
   "cell_type": "code",
   "execution_count": 2,
   "metadata": {},
   "outputs": [],
   "source": [
    "x=open('elements1_20.txt', 'a+')\n"
   ]
  },
  {
   "cell_type": "code",
   "execution_count": 3,
   "metadata": {},
   "outputs": [
    {
     "name": "stdout",
     "output_type": "stream",
     "text": [
      "Enter the name of an element:hydrogen\n",
      "Enter the name of an element:helium\n",
      "Enter the name of an element:a\n",
      "Enter the name of an element:b\n",
      "Enter the name of an element:c\n",
      "40 % correct\n",
      "Found:  ['Hydrogen', 'Helium']\n",
      "Not Found:  ['A', 'B', 'C']\n"
     ]
    }
   ],
   "source": [
    "x.seek(0)\n",
    "count= 0\n",
    "list= []\n",
    "correct=[]\n",
    "incorrect=[]\n",
    "first_20 = x.readlines()\n",
    "\n",
    "for elements in first_20:\n",
    "    first_20[count]= elements.strip('\\n').title()\n",
    "    count += 1\n",
    "    \n",
    "def get_names():\n",
    "    while len(list) < 5:\n",
    "        y=input('Enter the name of an element:')\n",
    "        if y.title() not in list:\n",
    "            list.append(y.title())\n",
    "        elif y.title() in list:\n",
    "            print('Element already in list.')\n",
    "        elif y == '':\n",
    "            return get_names()\n",
    "    for x in list:\n",
    "        x.title()\n",
    "        if x in first_20:\n",
    "            correct.append(x.title())\n",
    "        if x not in first_20:\n",
    "            incorrect.append(x.title())\n",
    "    print(len(correct)*20,'%', 'correct')\n",
    "    print('Found: ', correct)\n",
    "    print('Not Found: ', incorrect)\n",
    "get_names()\n",
    "\n",
    "\n",
    "    \n",
    "            \n",
    "        \n",
    "    "
   ]
  },
  {
   "cell_type": "code",
   "execution_count": null,
   "metadata": {},
   "outputs": [],
   "source": []
  },
  {
   "cell_type": "code",
   "execution_count": 1,
   "metadata": {},
   "outputs": [
    {
     "name": "stderr",
     "output_type": "stream",
     "text": [
      "The system cannot find the path specified.\n"
     ]
    }
   ],
   "source": [
    "!curl https://raw.githubusercontent.com/MicrosoftLearning/intropython/master/elements1_20.txt -o elements1_20.txt elements = open('elements1_20.txt', 'a+') elements.readline() elements.seek(0) elemlist = elements.readlines() elements.readlines() count = 0 for i in elemlist:     elemlist[count] = i.strip('\\n').lower()     count += 1   ul = [] ul2 = [] ul3 = [] def get_names():     print('list any 5 of the first 20 elements in the Period table')     while len(ul) < 5:         ui = input('Enter the name of an element: ')         if ui.isalpha():             if ui.lower() in ul:                 print('no duplicates allowed')             elif ui.lower not in ul:                 ul.append(ui.lower())             elif ui == \"\":                 break     for i in ul:         counter = 0         if i in elemlist:             counter += 1             ul2.append(i)         elif i not in elemlist:             ul3.append(i)     k = len(ul2) * 20     print(k, '%','correct')     print('Found: ',\" \".join(x for x in ul2).title())     print('Not Found: ',\" \".join(x for x in ul3).title())     return ul2                                    get_names()"
   ]
  },
  {
   "cell_type": "code",
   "execution_count": 9,
   "metadata": {},
   "outputs": [
    {
     "name": "stdout",
     "output_type": "stream",
     "text": [
      "Enter the name of an element:jk\n",
      "Enter the name of an element:jk\n",
      "Element already in list.\n",
      "Enter the name of an element:hi\n",
      "Enter the name of an element:hi\n",
      "Element already in list.\n",
      "Enter the name of an element:hi\n",
      "Element already in list.\n",
      "Enter the name of an element:d\n",
      "Enter the name of an element:d\n",
      "Element already in list.\n",
      "Enter the name of an element:d\n",
      "Element already in list.\n",
      "Enter the name of an element:d\n",
      "Element already in list.\n",
      "Enter the name of an element:ddf\n",
      "Enter the name of an element:da\n"
     ]
    }
   ],
   "source": [
    "get_names()"
   ]
  },
  {
   "cell_type": "code",
   "execution_count": null,
   "metadata": {},
   "outputs": [],
   "source": []
  },
  {
   "cell_type": "code",
   "execution_count": null,
   "metadata": {},
   "outputs": [],
   "source": []
  }
 ],
 "metadata": {
  "kernelspec": {
   "display_name": "Python 3",
   "language": "python",
   "name": "python3"
  },
  "language_info": {
   "codemirror_mode": {
    "name": "ipython",
    "version": 3
   },
   "file_extension": ".py",
   "mimetype": "text/x-python",
   "name": "python",
   "nbconvert_exporter": "python",
   "pygments_lexer": "ipython3",
   "version": "3.7.1"
  }
 },
 "nbformat": 4,
 "nbformat_minor": 2
}
